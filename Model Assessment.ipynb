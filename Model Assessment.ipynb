{
 "cells": [
  {
   "cell_type": "code",
   "execution_count": 1,
   "id": "90140d14",
   "metadata": {},
   "outputs": [
    {
     "name": "stdout",
     "output_type": "stream",
     "text": [
      "Requirement already satisfied: tensorflow in d:\\anaconda\\lib\\site-packages (2.15.0)\n",
      "Requirement already satisfied: tensorflow-intel==2.15.0 in d:\\anaconda\\lib\\site-packages (from tensorflow) (2.15.0)\n",
      "Requirement already satisfied: absl-py>=1.0.0 in d:\\anaconda\\lib\\site-packages (from tensorflow-intel==2.15.0->tensorflow) (2.1.0)\n",
      "Requirement already satisfied: astunparse>=1.6.0 in d:\\anaconda\\lib\\site-packages (from tensorflow-intel==2.15.0->tensorflow) (1.6.3)\n",
      "Requirement already satisfied: flatbuffers>=23.5.26 in d:\\anaconda\\lib\\site-packages (from tensorflow-intel==2.15.0->tensorflow) (23.5.26)\n",
      "Requirement already satisfied: gast!=0.5.0,!=0.5.1,!=0.5.2,>=0.2.1 in d:\\anaconda\\lib\\site-packages (from tensorflow-intel==2.15.0->tensorflow) (0.5.4)\n",
      "Requirement already satisfied: google-pasta>=0.1.1 in d:\\anaconda\\lib\\site-packages (from tensorflow-intel==2.15.0->tensorflow) (0.2.0)\n",
      "Requirement already satisfied: h5py>=2.9.0 in d:\\anaconda\\lib\\site-packages (from tensorflow-intel==2.15.0->tensorflow) (3.9.0)\n",
      "Requirement already satisfied: libclang>=13.0.0 in d:\\anaconda\\lib\\site-packages (from tensorflow-intel==2.15.0->tensorflow) (16.0.6)\n",
      "Requirement already satisfied: ml-dtypes~=0.2.0 in d:\\anaconda\\lib\\site-packages (from tensorflow-intel==2.15.0->tensorflow) (0.2.0)\n",
      "Requirement already satisfied: numpy<2.0.0,>=1.23.5 in d:\\anaconda\\lib\\site-packages (from tensorflow-intel==2.15.0->tensorflow) (1.24.3)\n",
      "Requirement already satisfied: opt-einsum>=2.3.2 in d:\\anaconda\\lib\\site-packages (from tensorflow-intel==2.15.0->tensorflow) (3.3.0)\n",
      "Requirement already satisfied: packaging in d:\\anaconda\\lib\\site-packages (from tensorflow-intel==2.15.0->tensorflow) (23.1)\n",
      "Requirement already satisfied: protobuf!=4.21.0,!=4.21.1,!=4.21.2,!=4.21.3,!=4.21.4,!=4.21.5,<5.0.0dev,>=3.20.3 in d:\\anaconda\\lib\\site-packages (from tensorflow-intel==2.15.0->tensorflow) (4.23.4)\n",
      "Requirement already satisfied: setuptools in d:\\anaconda\\lib\\site-packages (from tensorflow-intel==2.15.0->tensorflow) (68.0.0)\n",
      "Requirement already satisfied: six>=1.12.0 in d:\\anaconda\\lib\\site-packages (from tensorflow-intel==2.15.0->tensorflow) (1.16.0)\n",
      "Requirement already satisfied: termcolor>=1.1.0 in d:\\anaconda\\lib\\site-packages (from tensorflow-intel==2.15.0->tensorflow) (2.4.0)\n",
      "Requirement already satisfied: typing-extensions>=3.6.6 in d:\\anaconda\\lib\\site-packages (from tensorflow-intel==2.15.0->tensorflow) (4.7.1)\n",
      "Requirement already satisfied: wrapt<1.15,>=1.11.0 in d:\\anaconda\\lib\\site-packages (from tensorflow-intel==2.15.0->tensorflow) (1.14.1)\n",
      "Requirement already satisfied: tensorflow-io-gcs-filesystem>=0.23.1 in d:\\anaconda\\lib\\site-packages (from tensorflow-intel==2.15.0->tensorflow) (0.31.0)\n",
      "Requirement already satisfied: grpcio<2.0,>=1.24.3 in d:\\anaconda\\lib\\site-packages (from tensorflow-intel==2.15.0->tensorflow) (1.60.1)\n",
      "Requirement already satisfied: tensorboard<2.16,>=2.15 in d:\\anaconda\\lib\\site-packages (from tensorflow-intel==2.15.0->tensorflow) (2.15.1)\n",
      "Requirement already satisfied: tensorflow-estimator<2.16,>=2.15.0 in d:\\anaconda\\lib\\site-packages (from tensorflow-intel==2.15.0->tensorflow) (2.15.0)\n",
      "Requirement already satisfied: keras<2.16,>=2.15.0 in d:\\anaconda\\lib\\site-packages (from tensorflow-intel==2.15.0->tensorflow) (2.15.0)\n",
      "Requirement already satisfied: wheel<1.0,>=0.23.0 in d:\\anaconda\\lib\\site-packages (from astunparse>=1.6.0->tensorflow-intel==2.15.0->tensorflow) (0.38.4)\n",
      "Requirement already satisfied: google-auth<3,>=1.6.3 in d:\\anaconda\\lib\\site-packages (from tensorboard<2.16,>=2.15->tensorflow-intel==2.15.0->tensorflow) (2.27.0)\n",
      "Requirement already satisfied: google-auth-oauthlib<2,>=0.5 in d:\\anaconda\\lib\\site-packages (from tensorboard<2.16,>=2.15->tensorflow-intel==2.15.0->tensorflow) (1.2.0)\n",
      "Requirement already satisfied: markdown>=2.6.8 in d:\\anaconda\\lib\\site-packages (from tensorboard<2.16,>=2.15->tensorflow-intel==2.15.0->tensorflow) (3.4.1)\n",
      "Requirement already satisfied: requests<3,>=2.21.0 in d:\\anaconda\\lib\\site-packages (from tensorboard<2.16,>=2.15->tensorflow-intel==2.15.0->tensorflow) (2.31.0)\n",
      "Requirement already satisfied: tensorboard-data-server<0.8.0,>=0.7.0 in d:\\anaconda\\lib\\site-packages (from tensorboard<2.16,>=2.15->tensorflow-intel==2.15.0->tensorflow) (0.7.2)\n",
      "Requirement already satisfied: werkzeug>=1.0.1 in d:\\anaconda\\lib\\site-packages (from tensorboard<2.16,>=2.15->tensorflow-intel==2.15.0->tensorflow) (2.2.3)\n",
      "Requirement already satisfied: cachetools<6.0,>=2.0.0 in d:\\anaconda\\lib\\site-packages (from google-auth<3,>=1.6.3->tensorboard<2.16,>=2.15->tensorflow-intel==2.15.0->tensorflow) (5.3.2)\n",
      "Requirement already satisfied: pyasn1-modules>=0.2.1 in d:\\anaconda\\lib\\site-packages (from google-auth<3,>=1.6.3->tensorboard<2.16,>=2.15->tensorflow-intel==2.15.0->tensorflow) (0.2.8)\n",
      "Requirement already satisfied: rsa<5,>=3.1.4 in d:\\anaconda\\lib\\site-packages (from google-auth<3,>=1.6.3->tensorboard<2.16,>=2.15->tensorflow-intel==2.15.0->tensorflow) (4.9)\n",
      "Requirement already satisfied: requests-oauthlib>=0.7.0 in d:\\anaconda\\lib\\site-packages (from google-auth-oauthlib<2,>=0.5->tensorboard<2.16,>=2.15->tensorflow-intel==2.15.0->tensorflow) (1.3.1)\n",
      "Requirement already satisfied: charset-normalizer<4,>=2 in d:\\anaconda\\lib\\site-packages (from requests<3,>=2.21.0->tensorboard<2.16,>=2.15->tensorflow-intel==2.15.0->tensorflow) (2.0.4)\n",
      "Requirement already satisfied: idna<4,>=2.5 in d:\\anaconda\\lib\\site-packages (from requests<3,>=2.21.0->tensorboard<2.16,>=2.15->tensorflow-intel==2.15.0->tensorflow) (3.4)\n",
      "Requirement already satisfied: urllib3<3,>=1.21.1 in d:\\anaconda\\lib\\site-packages (from requests<3,>=2.21.0->tensorboard<2.16,>=2.15->tensorflow-intel==2.15.0->tensorflow) (1.26.16)\n",
      "Requirement already satisfied: certifi>=2017.4.17 in d:\\anaconda\\lib\\site-packages (from requests<3,>=2.21.0->tensorboard<2.16,>=2.15->tensorflow-intel==2.15.0->tensorflow) (2024.2.2)\n",
      "Requirement already satisfied: MarkupSafe>=2.1.1 in d:\\anaconda\\lib\\site-packages (from werkzeug>=1.0.1->tensorboard<2.16,>=2.15->tensorflow-intel==2.15.0->tensorflow) (2.1.1)\n",
      "Requirement already satisfied: pyasn1<0.5.0,>=0.4.6 in d:\\anaconda\\lib\\site-packages (from pyasn1-modules>=0.2.1->google-auth<3,>=1.6.3->tensorboard<2.16,>=2.15->tensorflow-intel==2.15.0->tensorflow) (0.4.8)\n",
      "Requirement already satisfied: oauthlib>=3.0.0 in d:\\anaconda\\lib\\site-packages (from requests-oauthlib>=0.7.0->google-auth-oauthlib<2,>=0.5->tensorboard<2.16,>=2.15->tensorflow-intel==2.15.0->tensorflow) (3.2.2)\n",
      "Note: you may need to restart the kernel to use updated packages.\n"
     ]
    }
   ],
   "source": [
    "pip install tensorflow"
   ]
  },
  {
   "cell_type": "code",
   "execution_count": 2,
   "id": "8d53cb65",
   "metadata": {},
   "outputs": [
    {
     "name": "stdout",
     "output_type": "stream",
     "text": [
      "WARNING:tensorflow:From D:\\anaconda\\Lib\\site-packages\\keras\\src\\losses.py:2976: The name tf.losses.sparse_softmax_cross_entropy is deprecated. Please use tf.compat.v1.losses.sparse_softmax_cross_entropy instead.\n",
      "\n"
     ]
    }
   ],
   "source": [
    "from tensorflow.keras.layers import Conv2D"
   ]
  },
  {
   "cell_type": "code",
   "execution_count": 3,
   "id": "4cd9f353",
   "metadata": {},
   "outputs": [],
   "source": [
    "import numpy as np\n",
    "import os\n",
    "from tensorflow.keras.layers import Conv3D, MaxPooling3D, Dense, Dropout, Flatten\n",
    "from keras.models import Sequential\n",
    "from keras.layers import Activation, ZeroPadding3D, TimeDistributed, LSTM, GRU, Reshape\n",
    "from keras.utils import plot_model\n",
    "import matplotlib.pyplot as plt\n",
    "from sklearn.model_selection import train_test_split\n",
    "import gc\n",
    "from sklearn.metrics import classification_report, balanced_accuracy_score\n",
    "from sklearn.metrics import roc_curve, auc\n",
    "from sklearn.preprocessing import label_binarize\n",
    "from itertools import cycle\n",
    "from sklearn.preprocessing import LabelEncoder\n",
    "import sklearn\n",
    "import seaborn as sns\n",
    "import tensorflow as tf\n",
    "from keras import regularizers\n",
    "from prettytable import PrettyTable"
   ]
  },
  {
   "cell_type": "code",
   "execution_count": 4,
   "id": "887b6811",
   "metadata": {},
   "outputs": [],
   "source": [
    "import zipfile\n",
    "\n",
    "\n",
    "zip_file_path = 'my.zip'\n",
    "\n",
    "\n",
    "with zipfile.ZipFile(zip_file_path, 'r') as zip_ref:\n",
    "    zip_ref.extractall('.')\n"
   ]
  },
  {
   "cell_type": "code",
   "execution_count": 5,
   "id": "ec44bb79",
   "metadata": {},
   "outputs": [
    {
     "name": "stdout",
     "output_type": "stream",
     "text": [
      "1 2 3 4 5 6 7 8 9 10 11 12 13 14 15 16 17 18 19 20 21 22 23 24 25 26 27 28 29 30 31 32 33 34 35 36 37 38 39 40 41 42 43 44 45 46 47 48 49 50 51 52 53 54 55 56 57 58 59 60 61 62 63 64 65 66 67 68 69 70 71 72 73 74 75 76 77 78 79 80 81 82 83 84 85 86 87 88 89 90 91 92 93 94 95 96 97 98 99 100 101 102 103 104 105 106 107 108 109 110 111 112 113 114 115 116 117 118 119 120 121 122 123 124 125 126 127 128 129 130 131 132 133 134 135 136 137 138 139 140 141 142 143 144 145 146 147 148 149 150 151 152 153 154 155 156 157 158 159 160 161 162 163 164 165 166 167 168 169 170 171 172 173 174 175 176 177 178 179 180 181 182 183 184 185 186 187 188 189 190 191 192 193 194 195 196 197 198 199 200 201 202 203 204 205 206 207 208 209 210 211 212 213 214 215 216 217 218 219 220 221 222 223 224 225 226 227 228 229 230 231 232 233 234 235 236 237 238 239 240 241 242 243 244 245 246 247 248 249 250 251 252 253 254 255 256 257 258 259 260 261 262 263 264 265 266 267 268 269 270 271 272 273 274 275 276 277 278 279 280 281 282 283 284 285 286 287 288 289 290 291 292 293 294 295 296 297 298 299 300 301 302 303 304 305 306 307 308 309 310 311 312 313 314 315 316 317 318 319 320 321 322 323 324 325 326 327 328 329 330 331 332 333 334 335 336 337 338 339 340 341 342 343 344 345 346 347 348 349 350 351 352 353 354 355 356 357 358 359 360 361 362 363 364 365 366 367 368 369 370 371 372 373 374 375 376 377 378 379 380 381 382 383 384 385 386 387 388 389 390 391 392 393 394 395 396 397 398 399 400 401 402 403 404 405 406 407 408 409 410 411 412 413 414 415 416 417 418 419 420 421 422 423 424 425 426 427 428 429 430 431 432 433 434 435 436 437 438 439 440 441 442 443 444 445 446 447 448 449 450 451 452 453 454 455 456 457 458 459 460 461 462 463 464 465 466 467 468 469 470 471 472 473 474 475 476 477 478 479 480 481 482 483 484 485 486 487 488 489 490 491 492 493 494 495 496 497 498 499 500 501 502 503 504 505 506 507 508 509 510 511 512 513 514 515 516 517 518 519 520 521 522 523 524 525 526 527 528 529 530 531 532 533 534 535 536 537 538 539 540 541 542 543 544 545 546 547 548 549 550 551 552 553 554 555 556 557 558 559 560 561 562 563 564 565 566 567 568 569 570 571 572 573 574 575 576 577 578 579 580 581 582 583 584 585 586 587 588 589 590 591 592 593 594 595 596 597 598 599 600 601 602 603 604 605 606 607 608 609 610 611 612 613 614 615 616 617 618 619 620 621 622 623 624 625 626 627 628 629 630 631 632 633 634 635 636 637 638 639 640 641 642 643 644 645 646 647 648 649 650 651 652 653 654 655 656 657 658 659 660 661 662 663 664 665 666 667 668 669 670 671 672 673 674 675 676 677 678 679 680 681 ['outputs\\\\a', 'outputs\\\\a', 'outputs\\\\a', 'outputs\\\\a', 'outputs\\\\a', 'outputs\\\\a', 'outputs\\\\a', 'outputs\\\\a', 'outputs\\\\a', 'outputs\\\\a', 'outputs\\\\a', 'outputs\\\\a', 'outputs\\\\a', 'outputs\\\\a', 'outputs\\\\a', 'outputs\\\\a', 'outputs\\\\a', 'outputs\\\\a', 'outputs\\\\a', 'outputs\\\\a', 'outputs\\\\a', 'outputs\\\\a', 'outputs\\\\a', 'outputs\\\\a', 'outputs\\\\a', 'outputs\\\\a', 'outputs\\\\a', 'outputs\\\\a', 'outputs\\\\a', 'outputs\\\\a', 'outputs\\\\a', 'outputs\\\\a', 'outputs\\\\a', 'outputs\\\\a', 'outputs\\\\a', 'outputs\\\\a', 'outputs\\\\a', 'outputs\\\\a', 'outputs\\\\a', 'outputs\\\\a', 'outputs\\\\a', 'outputs\\\\a', 'outputs\\\\a', 'outputs\\\\a', 'outputs\\\\a', 'outputs\\\\a', 'outputs\\\\a', 'outputs\\\\a', 'outputs\\\\a', 'outputs\\\\a', 'outputs\\\\a', 'outputs\\\\a', 'outputs\\\\a', 'outputs\\\\bye', 'outputs\\\\bye', 'outputs\\\\bye', 'outputs\\\\bye', 'outputs\\\\bye', 'outputs\\\\bye', 'outputs\\\\bye', 'outputs\\\\bye', 'outputs\\\\bye', 'outputs\\\\bye', 'outputs\\\\bye', 'outputs\\\\bye', 'outputs\\\\bye', 'outputs\\\\bye', 'outputs\\\\bye', 'outputs\\\\bye', 'outputs\\\\bye', 'outputs\\\\bye', 'outputs\\\\bye', 'outputs\\\\bye', 'outputs\\\\bye', 'outputs\\\\bye', 'outputs\\\\bye', 'outputs\\\\bye', 'outputs\\\\bye', 'outputs\\\\bye', 'outputs\\\\bye', 'outputs\\\\bye', 'outputs\\\\bye', 'outputs\\\\bye', 'outputs\\\\bye', 'outputs\\\\bye', 'outputs\\\\bye', 'outputs\\\\bye', 'outputs\\\\bye', 'outputs\\\\bye', 'outputs\\\\bye', 'outputs\\\\bye', 'outputs\\\\bye', 'outputs\\\\bye', 'outputs\\\\bye', 'outputs\\\\bye', 'outputs\\\\bye', 'outputs\\\\bye', 'outputs\\\\bye', 'outputs\\\\bye', 'outputs\\\\bye', 'outputs\\\\bye', 'outputs\\\\bye', 'outputs\\\\bye', 'outputs\\\\bye', 'outputs\\\\bye', 'outputs\\\\can', 'outputs\\\\can', 'outputs\\\\can', 'outputs\\\\can', 'outputs\\\\can', 'outputs\\\\can', 'outputs\\\\can', 'outputs\\\\can', 'outputs\\\\can', 'outputs\\\\can', 'outputs\\\\can', 'outputs\\\\can', 'outputs\\\\can', 'outputs\\\\can', 'outputs\\\\can', 'outputs\\\\can', 'outputs\\\\can', 'outputs\\\\can', 'outputs\\\\can', 'outputs\\\\can', 'outputs\\\\can', 'outputs\\\\can', 'outputs\\\\can', 'outputs\\\\can', 'outputs\\\\can', 'outputs\\\\can', 'outputs\\\\can', 'outputs\\\\can', 'outputs\\\\can', 'outputs\\\\can', 'outputs\\\\can', 'outputs\\\\can', 'outputs\\\\can', 'outputs\\\\can', 'outputs\\\\can', 'outputs\\\\can', 'outputs\\\\can', 'outputs\\\\can', 'outputs\\\\can', 'outputs\\\\can', 'outputs\\\\can', 'outputs\\\\can', 'outputs\\\\can', 'outputs\\\\can', 'outputs\\\\can', 'outputs\\\\can', 'outputs\\\\can', 'outputs\\\\can', 'outputs\\\\can', 'outputs\\\\can', 'outputs\\\\can', 'outputs\\\\cat', 'outputs\\\\cat', 'outputs\\\\cat', 'outputs\\\\cat', 'outputs\\\\cat', 'outputs\\\\cat', 'outputs\\\\cat', 'outputs\\\\cat', 'outputs\\\\cat', 'outputs\\\\cat', 'outputs\\\\cat', 'outputs\\\\cat', 'outputs\\\\cat', 'outputs\\\\cat', 'outputs\\\\cat', 'outputs\\\\cat', 'outputs\\\\cat', 'outputs\\\\cat', 'outputs\\\\cat', 'outputs\\\\cat', 'outputs\\\\cat', 'outputs\\\\cat', 'outputs\\\\cat', 'outputs\\\\cat', 'outputs\\\\cat', 'outputs\\\\cat', 'outputs\\\\cat', 'outputs\\\\cat', 'outputs\\\\cat', 'outputs\\\\cat', 'outputs\\\\cat', 'outputs\\\\cat', 'outputs\\\\cat', 'outputs\\\\cat', 'outputs\\\\cat', 'outputs\\\\cat', 'outputs\\\\cat', 'outputs\\\\cat', 'outputs\\\\cat', 'outputs\\\\cat', 'outputs\\\\cat', 'outputs\\\\cat', 'outputs\\\\cat', 'outputs\\\\cat', 'outputs\\\\cat', 'outputs\\\\cat', 'outputs\\\\cat', 'outputs\\\\cat', 'outputs\\\\cat', 'outputs\\\\demo', 'outputs\\\\demo', 'outputs\\\\demo', 'outputs\\\\demo', 'outputs\\\\demo', 'outputs\\\\demo', 'outputs\\\\demo', 'outputs\\\\demo', 'outputs\\\\demo', 'outputs\\\\demo', 'outputs\\\\demo', 'outputs\\\\demo', 'outputs\\\\demo', 'outputs\\\\demo', 'outputs\\\\demo', 'outputs\\\\demo', 'outputs\\\\demo', 'outputs\\\\demo', 'outputs\\\\demo', 'outputs\\\\demo', 'outputs\\\\demo', 'outputs\\\\demo', 'outputs\\\\demo', 'outputs\\\\demo', 'outputs\\\\demo', 'outputs\\\\demo', 'outputs\\\\demo', 'outputs\\\\demo', 'outputs\\\\demo', 'outputs\\\\demo', 'outputs\\\\demo', 'outputs\\\\demo', 'outputs\\\\demo', 'outputs\\\\demo', 'outputs\\\\demo', 'outputs\\\\demo', 'outputs\\\\demo', 'outputs\\\\demo', 'outputs\\\\demo', 'outputs\\\\demo', 'outputs\\\\demo', 'outputs\\\\demo', 'outputs\\\\demo', 'outputs\\\\demo', 'outputs\\\\demo', 'outputs\\\\demo', 'outputs\\\\demo', 'outputs\\\\demo', 'outputs\\\\demo', 'outputs\\\\demo', 'outputs\\\\demo', 'outputs\\\\demo', 'outputs\\\\dog', 'outputs\\\\dog', 'outputs\\\\dog', 'outputs\\\\dog', 'outputs\\\\dog', 'outputs\\\\dog', 'outputs\\\\dog', 'outputs\\\\dog', 'outputs\\\\dog', 'outputs\\\\dog', 'outputs\\\\dog', 'outputs\\\\dog', 'outputs\\\\dog', 'outputs\\\\dog', 'outputs\\\\dog', 'outputs\\\\dog', 'outputs\\\\dog', 'outputs\\\\dog', 'outputs\\\\dog', 'outputs\\\\dog', 'outputs\\\\dog', 'outputs\\\\dog', 'outputs\\\\dog', 'outputs\\\\dog', 'outputs\\\\dog', 'outputs\\\\dog', 'outputs\\\\dog', 'outputs\\\\dog', 'outputs\\\\dog', 'outputs\\\\dog', 'outputs\\\\dog', 'outputs\\\\dog', 'outputs\\\\dog', 'outputs\\\\dog', 'outputs\\\\dog', 'outputs\\\\dog', 'outputs\\\\dog', 'outputs\\\\dog', 'outputs\\\\dog', 'outputs\\\\dog', 'outputs\\\\dog', 'outputs\\\\dog', 'outputs\\\\dog', 'outputs\\\\dog', 'outputs\\\\dog', 'outputs\\\\dog', 'outputs\\\\dog', 'outputs\\\\dog', 'outputs\\\\dog', 'outputs\\\\dog', 'outputs\\\\hello', 'outputs\\\\hello', 'outputs\\\\hello', 'outputs\\\\hello', 'outputs\\\\hello', 'outputs\\\\hello', 'outputs\\\\hello', 'outputs\\\\hello', 'outputs\\\\hello', 'outputs\\\\hello', 'outputs\\\\hello', 'outputs\\\\hello', 'outputs\\\\hello', 'outputs\\\\hello', 'outputs\\\\hello', 'outputs\\\\hello', 'outputs\\\\hello', 'outputs\\\\hello', 'outputs\\\\hello', 'outputs\\\\hello', 'outputs\\\\hello', 'outputs\\\\hello', 'outputs\\\\hello', 'outputs\\\\hello', 'outputs\\\\hello', 'outputs\\\\hello', 'outputs\\\\hello', 'outputs\\\\hello', 'outputs\\\\hello', 'outputs\\\\hello', 'outputs\\\\hello', 'outputs\\\\hello', 'outputs\\\\hello', 'outputs\\\\hello', 'outputs\\\\hello', 'outputs\\\\hello', 'outputs\\\\hello', 'outputs\\\\hello', 'outputs\\\\hello', 'outputs\\\\hello', 'outputs\\\\hello', 'outputs\\\\hello', 'outputs\\\\hello', 'outputs\\\\hello', 'outputs\\\\hello', 'outputs\\\\hello', 'outputs\\\\hello', 'outputs\\\\hello', 'outputs\\\\here', 'outputs\\\\here', 'outputs\\\\here', 'outputs\\\\here', 'outputs\\\\here', 'outputs\\\\here', 'outputs\\\\here', 'outputs\\\\here', 'outputs\\\\here', 'outputs\\\\here', 'outputs\\\\here', 'outputs\\\\here', 'outputs\\\\here', 'outputs\\\\here', 'outputs\\\\here', 'outputs\\\\here', 'outputs\\\\here', 'outputs\\\\here', 'outputs\\\\here', 'outputs\\\\here', 'outputs\\\\here', 'outputs\\\\here', 'outputs\\\\here', 'outputs\\\\here', 'outputs\\\\here', 'outputs\\\\here', 'outputs\\\\here', 'outputs\\\\here', 'outputs\\\\here', 'outputs\\\\here', 'outputs\\\\here', 'outputs\\\\here', 'outputs\\\\here', 'outputs\\\\here', 'outputs\\\\here', 'outputs\\\\here', 'outputs\\\\here', 'outputs\\\\here', 'outputs\\\\here', 'outputs\\\\here', 'outputs\\\\here', 'outputs\\\\here', 'outputs\\\\here', 'outputs\\\\here', 'outputs\\\\here', 'outputs\\\\here', 'outputs\\\\here', 'outputs\\\\here', 'outputs\\\\here', 'outputs\\\\here', 'outputs\\\\here', 'outputs\\\\here', 'outputs\\\\here', 'outputs\\\\here', 'outputs\\\\here', 'outputs\\\\here', 'outputs\\\\here', 'outputs\\\\here', 'outputs\\\\here', 'outputs\\\\here', 'outputs\\\\here', 'outputs\\\\is', 'outputs\\\\is', 'outputs\\\\is', 'outputs\\\\is', 'outputs\\\\is', 'outputs\\\\is', 'outputs\\\\is', 'outputs\\\\is', 'outputs\\\\is', 'outputs\\\\is', 'outputs\\\\is', 'outputs\\\\is', 'outputs\\\\is', 'outputs\\\\is', 'outputs\\\\is', 'outputs\\\\is', 'outputs\\\\is', 'outputs\\\\is', 'outputs\\\\is', 'outputs\\\\is', 'outputs\\\\is', 'outputs\\\\is', 'outputs\\\\is', 'outputs\\\\is', 'outputs\\\\is', 'outputs\\\\is', 'outputs\\\\is', 'outputs\\\\is', 'outputs\\\\is', 'outputs\\\\is', 'outputs\\\\is', 'outputs\\\\is', 'outputs\\\\is', 'outputs\\\\is', 'outputs\\\\is', 'outputs\\\\is', 'outputs\\\\is', 'outputs\\\\is', 'outputs\\\\is', 'outputs\\\\is', 'outputs\\\\is', 'outputs\\\\is', 'outputs\\\\is', 'outputs\\\\is', 'outputs\\\\is', 'outputs\\\\is', 'outputs\\\\is', 'outputs\\\\is', 'outputs\\\\is', 'outputs\\\\is', 'outputs\\\\is', 'outputs\\\\is', 'outputs\\\\is', 'outputs\\\\is', 'outputs\\\\lips', 'outputs\\\\lips', 'outputs\\\\lips', 'outputs\\\\lips', 'outputs\\\\lips', 'outputs\\\\lips', 'outputs\\\\lips', 'outputs\\\\lips', 'outputs\\\\lips', 'outputs\\\\lips', 'outputs\\\\lips', 'outputs\\\\lips', 'outputs\\\\lips', 'outputs\\\\lips', 'outputs\\\\lips', 'outputs\\\\lips', 'outputs\\\\lips', 'outputs\\\\lips', 'outputs\\\\lips', 'outputs\\\\lips', 'outputs\\\\lips', 'outputs\\\\lips', 'outputs\\\\lips', 'outputs\\\\lips', 'outputs\\\\lips', 'outputs\\\\lips', 'outputs\\\\lips', 'outputs\\\\lips', 'outputs\\\\lips', 'outputs\\\\lips', 'outputs\\\\lips', 'outputs\\\\lips', 'outputs\\\\lips', 'outputs\\\\lips', 'outputs\\\\lips', 'outputs\\\\lips', 'outputs\\\\lips', 'outputs\\\\lips', 'outputs\\\\lips', 'outputs\\\\lips', 'outputs\\\\lips', 'outputs\\\\lips', 'outputs\\\\lips', 'outputs\\\\lips', 'outputs\\\\lips', 'outputs\\\\lips', 'outputs\\\\lips', 'outputs\\\\lips', 'outputs\\\\lips', 'outputs\\\\lips', 'outputs\\\\lips', 'outputs\\\\lips', 'outputs\\\\lips', 'outputs\\\\my', 'outputs\\\\my', 'outputs\\\\my', 'outputs\\\\my', 'outputs\\\\my', 'outputs\\\\my', 'outputs\\\\my', 'outputs\\\\my', 'outputs\\\\my', 'outputs\\\\my', 'outputs\\\\my', 'outputs\\\\my', 'outputs\\\\my', 'outputs\\\\my', 'outputs\\\\my', 'outputs\\\\my', 'outputs\\\\my', 'outputs\\\\my', 'outputs\\\\my', 'outputs\\\\my', 'outputs\\\\my', 'outputs\\\\my', 'outputs\\\\my', 'outputs\\\\my', 'outputs\\\\my', 'outputs\\\\my', 'outputs\\\\my', 'outputs\\\\my', 'outputs\\\\my', 'outputs\\\\my', 'outputs\\\\my', 'outputs\\\\my', 'outputs\\\\my', 'outputs\\\\my', 'outputs\\\\my', 'outputs\\\\my', 'outputs\\\\my', 'outputs\\\\my', 'outputs\\\\my', 'outputs\\\\my', 'outputs\\\\my', 'outputs\\\\my', 'outputs\\\\my', 'outputs\\\\my', 'outputs\\\\my', 'outputs\\\\my', 'outputs\\\\my', 'outputs\\\\my', 'outputs\\\\my', 'outputs\\\\my', 'outputs\\\\my', 'outputs\\\\my', 'outputs\\\\my', 'outputs\\\\read', 'outputs\\\\read', 'outputs\\\\read', 'outputs\\\\read', 'outputs\\\\read', 'outputs\\\\read', 'outputs\\\\read', 'outputs\\\\read', 'outputs\\\\read', 'outputs\\\\read', 'outputs\\\\read', 'outputs\\\\read', 'outputs\\\\read', 'outputs\\\\read', 'outputs\\\\read', 'outputs\\\\read', 'outputs\\\\read', 'outputs\\\\read', 'outputs\\\\read', 'outputs\\\\read', 'outputs\\\\read', 'outputs\\\\read', 'outputs\\\\read', 'outputs\\\\read', 'outputs\\\\read', 'outputs\\\\read', 'outputs\\\\read', 'outputs\\\\read', 'outputs\\\\read', 'outputs\\\\read', 'outputs\\\\read', 'outputs\\\\read', 'outputs\\\\read', 'outputs\\\\read', 'outputs\\\\read', 'outputs\\\\read', 'outputs\\\\read', 'outputs\\\\read', 'outputs\\\\read', 'outputs\\\\read', 'outputs\\\\read', 'outputs\\\\read', 'outputs\\\\read', 'outputs\\\\read', 'outputs\\\\read', 'outputs\\\\read', 'outputs\\\\read', 'outputs\\\\read', 'outputs\\\\read', 'outputs\\\\read', 'outputs\\\\read', 'outputs\\\\read', 'outputs\\\\read', 'outputs\\\\read', 'outputs\\\\you', 'outputs\\\\you', 'outputs\\\\you', 'outputs\\\\you', 'outputs\\\\you', 'outputs\\\\you', 'outputs\\\\you', 'outputs\\\\you', 'outputs\\\\you', 'outputs\\\\you', 'outputs\\\\you', 'outputs\\\\you', 'outputs\\\\you', 'outputs\\\\you', 'outputs\\\\you', 'outputs\\\\you', 'outputs\\\\you', 'outputs\\\\you', 'outputs\\\\you', 'outputs\\\\you', 'outputs\\\\you', 'outputs\\\\you', 'outputs\\\\you', 'outputs\\\\you', 'outputs\\\\you', 'outputs\\\\you', 'outputs\\\\you', 'outputs\\\\you', 'outputs\\\\you', 'outputs\\\\you', 'outputs\\\\you', 'outputs\\\\you', 'outputs\\\\you', 'outputs\\\\you', 'outputs\\\\you', 'outputs\\\\you', 'outputs\\\\you', 'outputs\\\\you', 'outputs\\\\you', 'outputs\\\\you', 'outputs\\\\you', 'outputs\\\\you', 'outputs\\\\you', 'outputs\\\\you', 'outputs\\\\you', 'outputs\\\\you', 'outputs\\\\you', 'outputs\\\\you', 'outputs\\\\you', 'outputs\\\\you', 'outputs\\\\you']\n"
     ]
    }
   ],
   "source": [
    "dir_path = \"outputs\"\n",
    "\n",
    "\n",
    "height, width, channels = 80, 112, 3\n",
    "\n",
    "\n",
    "videos = []\n",
    "labels = []\n",
    "counter = 0\n",
    "\n",
    "for root, dirs, files in os.walk(dir_path):\n",
    "    \n",
    "\n",
    "    for file in files:\n",
    "        if file == \"data.txt\":\n",
    "\n",
    "            \n",
    "            label = root.split(\"/\")[-1]\n",
    "            label = label.split(\"_\")[0]\n",
    "            \n",
    "            counter += 1\n",
    "            print(counter, end=\" \")\n",
    "            \n",
    "\n",
    "            with open(os.path.join(root, file), 'r') as f:\n",
    "                data_str = f.read()\n",
    "\n",
    "        \n",
    "            data_list = eval(data_str)\n",
    "            \n",
    "           \n",
    "            data_array = np.array(data_list)\n",
    "           \n",
    "\n",
    "            \n",
    "            num_frames = len(data_list)\n",
    "            frames = data_array.reshape((num_frames, height, width, channels))\n",
    "           \n",
    "            videos.append(frames)\n",
    "            labels.append(label)\n",
    "print(labels)\n",
    "\n",
    "videos = np.array(videos)\n",
    "labels = np.array(labels)\n",
    "\n",
    "\n",
    "np.save(\"videosCorrect.npy\", videos)\n",
    "np.save(\"labelsCorrect.npy\", labels)\n",
    "\n",
    "\n",
    "videos = np.load('videosCorrect.npy')\n",
    "labels = np.load('labelsCorrect.npy')"
   ]
  },
  {
   "cell_type": "code",
   "execution_count": 6,
   "id": "02ebb128",
   "metadata": {},
   "outputs": [
    {
     "name": "stdout",
     "output_type": "stream",
     "text": [
      "Videos shape: (681, 22, 80, 112, 3)\n",
      "Labels shape: (681,)\n"
     ]
    }
   ],
   "source": [
    "print(\"Videos shape:\", videos.shape)\n",
    "print(\"Labels shape:\", labels.shape)"
   ]
  },
  {
   "cell_type": "code",
   "execution_count": 7,
   "id": "a5fa4641",
   "metadata": {},
   "outputs": [],
   "source": [
    "encoder = LabelEncoder()\n",
    "encoder.fit(labels)\n",
    "encoded_labels = encoder.transform(labels)\n",
    "labels = encoded_labels"
   ]
  },
  {
   "cell_type": "code",
   "execution_count": 8,
   "id": "b21b9be9",
   "metadata": {},
   "outputs": [],
   "source": [
    "label_dict = {6: 'hello', 5: 'dog', 10: 'my', 12: 'you', 9: 'lips', 3: 'cat', 11: 'read', 0: 'a', 4: 'demo', 7: 'here', 8: 'is', 1: 'bye', 2: 'can'}\n"
   ]
  },
  {
   "cell_type": "code",
   "execution_count": 9,
   "id": "6bd72ad7",
   "metadata": {},
   "outputs": [
    {
     "name": "stdout",
     "output_type": "stream",
     "text": [
      "Training set shape: (544, 22, 80, 112, 3) (544,)\n",
      "Test set shape: (137, 22, 80, 112, 3) (137,)\n"
     ]
    }
   ],
   "source": [
    "X_train, X_test, y_train, y_test = train_test_split(videos, labels, test_size=0.2, random_state=42)\n",
    "\n",
    "print(\"Training set shape:\", X_train.shape, y_train.shape)\n",
    "print(\"Test set shape:\", X_test.shape, y_test.shape)\n",
    "\n",
    "del videos"
   ]
  },
  {
   "cell_type": "code",
   "execution_count": 10,
   "id": "45218b3f",
   "metadata": {},
   "outputs": [
    {
     "data": {
      "text/plain": [
       "22"
      ]
     },
     "execution_count": 10,
     "metadata": {},
     "output_type": "execute_result"
    }
   ],
   "source": [
    "gc.collect()\n"
   ]
  },
  {
   "cell_type": "code",
   "execution_count": 11,
   "id": "dade9366",
   "metadata": {},
   "outputs": [
    {
     "name": "stdout",
     "output_type": "stream",
     "text": [
      "a      53 counts\n",
      "bye    52 counts\n",
      "can    51 counts\n",
      "cat    49 counts\n",
      "demo   52 counts\n",
      "dog    50 counts\n",
      "hello  48 counts\n",
      "here   61 counts\n",
      "is     54 counts\n",
      "lips   53 counts\n",
      "my     53 counts\n",
      "read   54 counts\n",
      "you    51 counts\n"
     ]
    }
   ],
   "source": [
    "classes = np.unique(labels)\n",
    "\n",
    "\n",
    "counts = np.bincount(labels, minlength=len(classes))\n",
    "\n",
    "\n",
    "max_len = max([len(label_dict[i]) for i in range(len(label_dict))])\n",
    "\n",
    "\n",
    "for i, count in enumerate(counts):\n",
    "    class_name = label_dict[i].ljust(max_len)\n",
    "    print(\"{}  {} counts\".format(class_name, count))"
   ]
  },
  {
   "cell_type": "code",
   "execution_count": 12,
   "id": "a2822d39",
   "metadata": {},
   "outputs": [
    {
     "data": {
      "image/png": "[encoded data removed]",
      "text/plain": [
       "<Figure size 800x600 with 1 Axes>"
      ]
     },
     "metadata": {},
     "output_type": "display_data"
    }
   ],
   "source": [
    "classes = np.unique(labels)\n",
    "\n",
    "\n",
    "counts = np.bincount(labels, minlength=len(classes))\n",
    "\n",
    "\n",
    "plt.figure(figsize=(8, 6))\n",
    "plt.rcParams.update({'font.size': 12})\n",
    "\n",
    "\n",
    "plt.hist(labels, bins=len(classes), width=0.8)\n",
    "plt.xticks(range(len(classes)), [label_dict[i] for i in range(len(classes))], rotation=45, ha='right')\n",
    "plt.xlabel('Classes')\n",
    "plt.ylabel('Counts')\n",
    "plt.title('Distribution of Classes')\n",
    "\n",
    "plt.show()"
   ]
  },
  {
   "cell_type": "code",
   "execution_count": 13,
   "id": "9ba0701d",
   "metadata": {},
   "outputs": [
    {
     "name": "stdout",
     "output_type": "stream",
     "text": [
      "WARNING:tensorflow:From D:\\anaconda\\Lib\\site-packages\\keras\\src\\backend.py:873: The name tf.get_default_graph is deprecated. Please use tf.compat.v1.get_default_graph instead.\n",
      "\n",
      "WARNING:tensorflow:From D:\\anaconda\\Lib\\site-packages\\keras\\src\\optimizers\\__init__.py:309: The name tf.train.Optimizer is deprecated. Please use tf.compat.v1.train.Optimizer instead.\n",
      "\n",
      "Model: \"sequential\"\n",
      "_________________________________________________________________\n",
      " Layer (type)                Output Shape              Param #   \n",
      "=================================================================\n",
      " conv3d (Conv3D)             (None, 20, 78, 110, 8)    656       \n",
      "                                                                 \n",
      " max_pooling3d (MaxPooling3  (None, 10, 39, 55, 8)     0         \n",
      " D)                                                              \n",
      "                                                                 \n",
      " conv3d_1 (Conv3D)           (None, 8, 37, 53, 32)     6944      \n",
      "                                                                 \n",
      " max_pooling3d_1 (MaxPoolin  (None, 4, 18, 26, 32)     0         \n",
      " g3D)                                                            \n",
      "                                                                 \n",
      " conv3d_2 (Conv3D)           (None, 2, 16, 24, 256)    221440    \n",
      "                                                                 \n",
      " flatten (Flatten)           (None, 196608)            0         \n",
      "                                                                 \n",
      " dense (Dense)               (None, 1024)              201327616 \n",
      "                                                                 \n",
      " dropout (Dropout)           (None, 1024)              0         \n",
      "                                                                 \n",
      " dense_1 (Dense)             (None, 256)               262400    \n",
      "                                                                 \n",
      " dropout_1 (Dropout)         (None, 256)               0         \n",
      "                                                                 \n",
      " dense_2 (Dense)             (None, 64)                16448     \n",
      "                                                                 \n",
      " dropout_2 (Dropout)         (None, 64)                0         \n",
      "                                                                 \n",
      " dense_3 (Dense)             (None, 13)                845       \n",
      "                                                                 \n",
      "=================================================================\n",
      "Total params: 201836349 (769.94 MB)\n",
      "Trainable params: 201836349 (769.94 MB)\n",
      "Non-trainable params: 0 (0.00 Byte)\n",
      "_________________________________________________________________\n"
     ]
    }
   ],
   "source": [
    "input_shape = (22, 80, 112, 3)\n",
    "\n",
    "model = Sequential()\n",
    "model.add(Conv3D(8, (3, 3, 3), activation='relu', input_shape=input_shape, kernel_regularizer=regularizers.l2(0.001)))\n",
    "model.add(MaxPooling3D((2, 2, 2)))\n",
    "model.add(Conv3D(32, (3, 3, 3), activation='relu', kernel_regularizer=regularizers.l2(0.001)))\n",
    "model.add(MaxPooling3D((2, 2, 2)))\n",
    "model.add(Conv3D(256, (3, 3, 3), activation='relu', kernel_regularizer=regularizers.l2(0.001)))\n",
    "model.add(Flatten())\n",
    "model.add(Dense(1024, activation='relu'))\n",
    "model.add(Dropout(0.5))\n",
    "model.add(Dense(256, activation='relu'))\n",
    "model.add(Dropout(0.5))\n",
    "model.add(Dense(64, activation='relu'))\n",
    "model.add(Dropout(0.5))\n",
    "model.add(Dense(13, activation='softmax'))\n",
    "\n",
    "model.compile(optimizer='adam', loss='categorical_crossentropy', metrics=['accuracy'])\n",
    "\n",
    "# Convert the target labels to one-hot encoding\n",
    "y_train_onehot = tf.keras.utils.to_categorical(y_train)\n",
    "y_test_onehot = tf.keras.utils.to_categorical(y_test)\n",
    "model.summary()"
   ]
  },
  {
   "cell_type": "code",
   "execution_count": null,
   "id": "8ace0caa",
   "metadata": {},
   "outputs": [
    {
     "name": "stdout",
     "output_type": "stream",
     "text": [
      "Epoch 1/20\n",
      "WARNING:tensorflow:From D:\\anaconda\\Lib\\site-packages\\keras\\src\\utils\\tf_utils.py:492: The name tf.ragged.RaggedTensorValue is deprecated. Please use tf.compat.v1.ragged.RaggedTensorValue instead.\n",
      "\n",
      "WARNING:tensorflow:From D:\\anaconda\\Lib\\site-packages\\keras\\src\\engine\\base_layer_utils.py:384: The name tf.executing_eagerly_outside_functions is deprecated. Please use tf.compat.v1.executing_eagerly_outside_functions instead.\n",
      "\n",
      "34/34 [==============================] - 178s 5s/step - loss: 271.8279 - accuracy: 0.0699 - val_loss: 2.6314 - val_accuracy: 0.0438\n",
      "Epoch 2/20\n",
      "34/34 [==============================] - 153s 4s/step - loss: 2.6304 - accuracy: 0.0772 - val_loss: 2.6315 - val_accuracy: 0.0438\n",
      "Epoch 3/20\n",
      " 4/34 [==>...........................] - ETA: 2:46 - loss: 2.6289 - accuracy: 0.1250"
     ]
    }
   ],
   "source": [
    "history = model.fit(X_train, y_train_onehot, epochs=20, batch_size=16, validation_data=(X_test, y_test_onehot))"
   ]
  },
  {
   "cell_type": "code",
   "execution_count": null,
   "id": "8dd2f789",
   "metadata": {},
   "outputs": [],
   "source": [
    "fig, axs = plt.subplots(2, 1, figsize=(8, 8))\n",
    "\n",
    "axs[0].plot(history.history['loss'], label='Training Loss')\n",
    "axs[0].plot(history.history['val_loss'], label='Validation Loss')\n",
    "axs[0].legend(loc='upper right')\n",
    "axs[0].set_ylabel('Loss')\n",
    "axs[0].set_title('Training and Validation Loss')\n",
    "\n",
    "axs[1].plot(history.history['accuracy'], label='Training Accuracy')\n",
    "axs[1].plot(history.history['val_accuracy'], label='Validation Accuracy')\n",
    "axs[1].legend(loc='lower right')\n",
    "axs[1].set_ylabel('Accuracy')\n",
    "axs[1].set_title('Training and Validation Accuracy')\n",
    "\n",
    "plt.xlabel('Epoch')\n",
    "plt.show()"
   ]
  },
  {
   "cell_type": "code",
   "execution_count": null,
   "id": "74e37fdb",
   "metadata": {},
   "outputs": [],
   "source": [
    "model.save_weights('model_weights4.h5')"
   ]
  },
  {
   "cell_type": "code",
   "execution_count": null,
   "id": "3ac58393",
   "metadata": {},
   "outputs": [],
   "source": [
    "y_pred_prob = model.predict(X_test)\n",
    "y_pred = np.argmax(y_pred_prob, axis=1)"
   ]
  },
  {
   "cell_type": "code",
   "execution_count": null,
   "id": "a71d777e",
   "metadata": {},
   "outputs": [],
   "source": [
    "report = classification_report(y_test, y_pred, output_dict=True)\n",
    "\n",
    "table = PrettyTable()\n",
    "table.field_names = [\"Class\", \"Precision\", \"Recall\", \"F1-Score\", \"Support\"]\n",
    "for label, metrics in report.items():\n",
    "    if label.isdigit():\n",
    "        precision = round(metrics['precision'], 2)\n",
    "        recall = round(metrics['recall'], 2)\n",
    "        f1_score = round(metrics['f1-score'], 2)\n",
    "        support = metrics['support']\n",
    "        table.add_row([label_dict[int(label)], precision, recall, f1_score, support])\n",
    "\n",
    "print(table)\n"
   ]
  },
  {
   "cell_type": "code",
   "execution_count": null,
   "id": "76aa9c17",
   "metadata": {},
   "outputs": [],
   "source": [
    "print(\"Balanced accuracy:\", balanced_accuracy_score(y_test, y_pred))"
   ]
  },
  {
   "cell_type": "code",
   "execution_count": null,
   "id": "8a7e1e22",
   "metadata": {},
   "outputs": [],
   "source": [
    "n_classes = len(np.unique(y_test))\n",
    "y_true_bin = label_binarize(y_test, classes=np.arange(n_classes))\n",
    "y_pred_bin = model.predict(X_test)\n",
    "y_pred_bin = label_binarize(np.argmax(y_pred_bin, axis=1), classes=np.arange(n_classes))\n",
    "\n",
    "\n",
    "fpr = dict()\n",
    "tpr = dict()\n",
    "roc_auc = dict()\n",
    "for i in range(n_classes):\n",
    "    fpr[i], tpr[i], _ = roc_curve(y_true_bin[:, i], y_pred_bin[:, i])\n",
    "    roc_auc[i] = auc(fpr[i], tpr[i])\n",
    "\n",
    "\n",
    "fpr_micro, tpr_micro, _ = roc_curve(y_true_bin.ravel(), y_pred_bin.ravel())\n",
    "roc_auc_micro = auc(fpr_micro, tpr_micro)\n",
    "\n",
    "\n",
    "plt.figure(figsize=(8,6))\n",
    "lw = 2\n",
    "colors = ['blue', 'red', 'green', 'orange', 'purple', 'black', 'brown', 'magenta', 'gray', 'maroon', 'navy', 'olive', 'pink']\n",
    "for i, color in zip(range(n_classes), colors):\n",
    "    plt.plot(fpr[i], tpr[i], color=color, lw=lw, \n",
    "             label='ROC curve of {0} (AUC = {1:0.2f})'\n",
    "             ''.format(label_dict[i], roc_auc[i]))\n",
    "plt.plot(fpr_micro, tpr_micro, color='darkorange', lw=lw,\n",
    "         label='micro-average ROC curve (AUC = {0:0.2f})'\n",
    "         ''.format(roc_auc_micro))\n",
    "\n",
    "plt.plot([0, 1], [0, 1], 'k--', lw=lw)\n",
    "plt.xlim([0.0, 1.0])\n",
    "plt.ylim([0.0, 1.05])\n",
    "plt.xlabel('False Positive Rate')\n",
    "plt.ylabel('True Positive Rate')\n",
    "plt.title('ROC AUC Curve')\n",
    "plt.legend(loc=\"lower right\")\n",
    "plt.show()"
   ]
  },
  {
   "cell_type": "code",
   "execution_count": null,
   "id": "83146bf9",
   "metadata": {},
   "outputs": [],
   "source": [
    "conf_matrix = sklearn.metrics.confusion_matrix(y_test, y_pred)\n",
    "\n",
    "\n",
    "label_strings = [label_dict[i] for i in range(len(label_dict))]\n",
    "\n",
    "\n",
    "sns.heatmap(conf_matrix, annot=True, cmap=\"Blues\", xticklabels=label_strings, yticklabels=label_strings)\n",
    "plt.xlabel(\"Predicted Labels\")\n",
    "plt.ylabel(\"True Labels\")\n",
    "plt.title(\"Confusion Matrix\")\n",
    "plt.show()"
   ]
  }
 ],
 "metadata": {
  "kernelspec": {
   "display_name": "Python 3 (ipykernel)",
   "language": "python",
   "name": "python3"
  },
  "language_info": {
   "codemirror_mode": {
    "name": "ipython",
    "version": 3
   },
   "file_extension": ".py",
   "mimetype": "text/x-python",
   "name": "python",
   "nbconvert_exporter": "python",
   "pygments_lexer": "ipython3",
   "version": "3.11.5"
  }
 },
 "nbformat": 4,
 "nbformat_minor": 5
}
